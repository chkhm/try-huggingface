{
 "cells": [
  {
   "cell_type": "markdown",
   "metadata": {},
   "source": [
    "# 🤗 HuggingFace Datasets\n",
    "\n",
    "HuggingFace provides the ability to interact with datasets dynamically. There is no need to pre-download large models and include them in a repository like this one. "
   ]
  },
  {
   "cell_type": "code",
   "execution_count": 1,
   "metadata": {},
   "outputs": [],
   "source": [
    "from datasets import load_dataset\n",
    "from huggingface_hub import HfApi"
   ]
  },
  {
   "cell_type": "code",
   "execution_count": 6,
   "metadata": {},
   "outputs": [
    {
     "name": "stdout",
     "output_type": "stream",
     "text": [
      "134\n",
      "jamarks/my-action-recognition-dataset\n",
      "Voxel51/VisDrone2019-DET\n",
      "Voxel51/mvtec-ad\n",
      "jamarks/emojis\n",
      "Voxel51/SoccerNet-V3\n",
      "Voxel51/dacl10k\n",
      "Voxel51/COIL-100\n",
      "Voxel51/WLASL\n",
      "Voxel51/IndoorSceneRecognition\n",
      "dgural/bdd100k\n",
      "Voxel51/PIDray\n",
      "Voxel51/hard-hat-detection\n",
      "Voxel51/Total-Text-Dataset\n",
      "Voxel51/MashUpVQA\n",
      "Voxel51/OxfordFlowers102\n",
      "Voxel51/Set14\n",
      "Voxel51/DanceTrack\n",
      "Voxel51/Describable-Textures-Dataset\n",
      "Voxel51/Urban100\n",
      "Voxel51/MPII_Human_Pose_Dataset\n",
      "Voxel51/Football-Player-Segmentation\n",
      "Voxel51/USPS\n",
      "guydada/quickstart-coco\n",
      "guydada/quickstart-coco2\n",
      "Charitarth/dac-sdc-2024-coco-fiftyone\n",
      "Voxel51/DUTS\n",
      "jamarks/wikiart-transformed\n",
      "Voxel51/CVPR_2024_Papers\n",
      "harpreetsahota/CVPR_2024_Papers_with_Embeddings\n",
      "Voxel51/DensePose-COCO\n",
      "dgural/Total-Segmentator-50\n",
      "jamarks/wikiart-transformed-june-27\n",
      "Voxel51/Set5\n",
      "Voxel51/Office-Home\n",
      "Voxel51/FGVC-Aircraft\n",
      "Voxel51/cats-vs-dogs-sample\n",
      "Voxel51/quickstart-3d\n",
      "Voxel51/cats-vs-dogs-imbalanced\n",
      "Voxel51/StreetViewHouseNumbers\n",
      "Voxel51/ColorSwap\n",
      "Voxel51/StanfordDogs\n",
      "Voxel51/SDXL-Dogs\n",
      "Voxel51/Stanford-Dogs-Imbalanced\n",
      "Voxel51/Diverse-SDXL-Dogs\n",
      "Voxel51/ImageNet-A\n",
      "Voxel51/SDXL-Generated-Stanford-Dogs\n",
      "Voxel51/Food101\n",
      "Voxel51/LVIS\n",
      "Voxel51/ImageNet-O\n",
      "harpreetsahota/WayveScenes101\n",
      "Voxel51/GQA-Scene-Graph\n",
      "Voxel51/Thermal-Person-Detector\n",
      "Voxel51/emnist-letters-tiny\n",
      "Voxel51/Coursera_lecture_dataset_train\n",
      "Voxel51/Coursera_lecture_dataset_test\n",
      "Voxel51/Coursera_homework_dataset_train\n",
      "Voxel51/Coursera_homework_dataset_test\n",
      "Voxel51/Data-Centric-Visual-AI-Challenge-Train-Set\n",
      "Voxel51/BTCV-CT-as-video-MedSAM2-dataset\n",
      "harpreetsahota/coursera_week1_lesson7\n",
      "dgural/Data-Curation-for-Visual-AI-Module-5-VisDrone\n",
      "dgural/Data-Curation-for-Visual-AI-Module-4-VisDrone\n",
      "harpreetsahota/videos-to-test-trackers\n",
      "harpreetsahota/marvel-masterpieces\n",
      "Voxel51/DCVAI-Challenge-Public-Eval-Set\n",
      "harpreetsahota/marvel-masterpieces-with-3dmesh\n",
      "jamarks/CrowdHuman-train\n",
      "harpreetsahota/marvel-bobbleheads\n",
      "jamarks/apples\n",
      "Voxel51/fisheye8k\n",
      "Voxel51/getting-started-labeled-photos\n",
      "Voxel51/getting-started-labeled-validation\n",
      "Voxel51/getting-started-validation-clip-pred\n",
      "jacobsela51/quickstart\n",
      "harpreetsahota/random_short_videos\n",
      "Voxel51/GMNCSA24-FO\n",
      "pjramg/my_colombian_coffe_FO\n",
      "harpreetsahota/wonders-of-the-world\n",
      "Voxel51/SkyScenes\n",
      "harpreetsahota/memes-dataset\n",
      "harpreetsahota/ml-memes\n",
      "Voxel51/BIOSCAN-30k\n",
      "Voxel51/WebUOT-238-Test\n",
      "Voxel51/ImageNet-D\n",
      "Voxel51/OpenSARWake\n",
      "Voxel51/AFO-Aerial_Floating_Objects\n",
      "manushreeg/my-quickstart-dataset\n",
      "harpreetsahota/ESC-10\n",
      "Voxel51/IllusionAnimals\n",
      "Abeyankar/class_mapping_test_dataset\n",
      "Abeyankar/class_mapping_target_test_dataset\n",
      "Abeyankar/class_mapping_target_test_dataset2\n",
      "Abeyankar/class_mapping_target_test_dataset3\n",
      "Abeyankar/class_mapping_source_test_dataset\n",
      "Voxel51/ScreenSpot\n",
      "harpreetsahota/DIODE\n",
      "harpreetsahota/group_by_scene\n",
      "harpreetsahota/CLEVR_Depth\n",
      "Voxel51/visdrone-mot\n",
      "Voxel51/TAMPAR\n",
      "Abeyankar/combined_dataset\n",
      "Chirag-R/foods\n",
      "Voxel51/hand-keypoints\n",
      "Abeyankar/Visdrone_fisheye-v51-complete\n",
      "arponde1v2j/impromptu-vision-test-dataset\n",
      "Charitarth/coco_minitrain\n",
      "Abeyankar/visheye_dummy\n",
      "TheSteve0/pokemon\n",
      "Voxel51/WaveUI-25k\n",
      "Voxel51/rico\n",
      "Voxel51/mind2web_multimodal_test_website\n",
      "Voxel51/mind2web_multimodal_test_domain\n",
      "Voxel51/mind2web_multimodal_test_task\n",
      "Voxel51/GroundUI-18k\n",
      "Voxel51/guiact_smartphone_test\n",
      "Voxel51/guiact_websingle_test\n",
      "Voxel51/ShowUI_desktop\n",
      "Voxel51/ShowUI_Web\n",
      "Voxel51/gui-odyssey-train\n",
      "Voxel51/gui-odyssey-test\n",
      "Voxel51/ScreenSpot-Pro\n",
      "Voxel51/ScreenSpot-v2\n",
      "Voxel51/INQUIRE_Rerank\n",
      "Voxel51/MedXpertQA\n",
      "Abeyankar/fisheye8k-mini\n",
      "Voxel51/SLAKE\n",
      "Abeyankar/mtl_new_ds_mini_fin\n",
      "Abeyankar/mtl_new_ds_full_fin\n",
      "Abeyankar/mtl_ds_full_fin\n",
      "Abeyankar/mtl_ds_mini_fin\n",
      "Abeyankar/mtl_ds_7k_full\n",
      "Abeyankar/mtl_7k_mistakeness\n",
      "Abeyankar/mtl_7k_inference_ds\n",
      "Abeyankar/mtl_795_inference_ds\n"
     ]
    }
   ],
   "source": [
    "# Explore available datasets\n",
    "api = HfApi()\n",
    "# Added a filter. without a filter the API eventually times out when iterating over the ds_gen\n",
    "ds_gen = api.list_datasets(filter=\"fiftyone\")\n",
    "\n",
    "\n",
    "voxel51_datasets = [ds for ds in ds_gen]\n",
    "\n",
    "print(len(voxel51_datasets))\n",
    "for ds in voxel51_datasets:\n",
    "    print(ds.id)\n"
   ]
  },
  {
   "cell_type": "code",
   "execution_count": 7,
   "metadata": {},
   "outputs": [],
   "source": [
    "# load the dataset dynamically by passing the name. \n",
    "movie_rationales = load_dataset(\"movie_rationales\")"
   ]
  },
  {
   "cell_type": "code",
   "execution_count": 8,
   "metadata": {},
   "outputs": [
    {
     "data": {
      "text/plain": [
       "datasets.dataset_dict.DatasetDict"
      ]
     },
     "execution_count": 8,
     "metadata": {},
     "output_type": "execute_result"
    }
   ],
   "source": [
    "type(movie_rationales)"
   ]
  },
  {
   "cell_type": "code",
   "execution_count": 9,
   "metadata": {},
   "outputs": [
    {
     "data": {
      "text/plain": [
       "DatasetDict({\n",
       "    train: Dataset({\n",
       "        features: ['review', 'label', 'evidences'],\n",
       "        num_rows: 1600\n",
       "    })\n",
       "    validation: Dataset({\n",
       "        features: ['review', 'label', 'evidences'],\n",
       "        num_rows: 200\n",
       "    })\n",
       "    test: Dataset({\n",
       "        features: ['review', 'label', 'evidences'],\n",
       "        num_rows: 199\n",
       "    })\n",
       "})"
      ]
     },
     "execution_count": 9,
     "metadata": {},
     "output_type": "execute_result"
    }
   ],
   "source": [
    "# The object is a dict-like mapping of actual datasets\n",
    "movie_rationales"
   ]
  },
  {
   "cell_type": "code",
   "execution_count": 10,
   "metadata": {},
   "outputs": [],
   "source": [
    "# Select the \"train\" dataset and then port it to pandas\n",
    "train = movie_rationales[\"train\"]\n",
    "df = train.to_pandas()"
   ]
  },
  {
   "cell_type": "code",
   "execution_count": 7,
   "metadata": {},
   "outputs": [
    {
     "data": {
      "text/html": [
       "<div>\n",
       "<style scoped>\n",
       "    .dataframe tbody tr th:only-of-type {\n",
       "        vertical-align: middle;\n",
       "    }\n",
       "\n",
       "    .dataframe tbody tr th {\n",
       "        vertical-align: top;\n",
       "    }\n",
       "\n",
       "    .dataframe thead th {\n",
       "        text-align: right;\n",
       "    }\n",
       "</style>\n",
       "<table border=\"1\" class=\"dataframe\">\n",
       "  <thead>\n",
       "    <tr style=\"text-align: right;\">\n",
       "      <th></th>\n",
       "      <th>review</th>\n",
       "      <th>label</th>\n",
       "      <th>evidences</th>\n",
       "    </tr>\n",
       "  </thead>\n",
       "  <tbody>\n",
       "    <tr>\n",
       "      <th>0</th>\n",
       "      <td>plot : two teen couples go to a church party ,...</td>\n",
       "      <td>0</td>\n",
       "      <td>[mind - fuck movie, the sad part is, downshift...</td>\n",
       "    </tr>\n",
       "    <tr>\n",
       "      <th>1</th>\n",
       "      <td>the happy bastard 's quick movie review damn\\n...</td>\n",
       "      <td>0</td>\n",
       "      <td>[it 's pretty much a sunken ship, sutherland i...</td>\n",
       "    </tr>\n",
       "    <tr>\n",
       "      <th>2</th>\n",
       "      <td>it is movies like these that make a jaded movi...</td>\n",
       "      <td>0</td>\n",
       "      <td>[the characters and acting is nothing spectacu...</td>\n",
       "    </tr>\n",
       "    <tr>\n",
       "      <th>3</th>\n",
       "      <td>\" quest for camelot \" is warner bros . '\\nfirs...</td>\n",
       "      <td>0</td>\n",
       "      <td>[dead on arrival, the characters stink, subpar...</td>\n",
       "    </tr>\n",
       "    <tr>\n",
       "      <th>4</th>\n",
       "      <td>synopsis : a mentally unstable man undergoing ...</td>\n",
       "      <td>0</td>\n",
       "      <td>[it is highly derivative and somewhat boring, ...</td>\n",
       "    </tr>\n",
       "  </tbody>\n",
       "</table>\n",
       "</div>"
      ],
      "text/plain": [
       "                                              review  label  \\\n",
       "0  plot : two teen couples go to a church party ,...      0   \n",
       "1  the happy bastard 's quick movie review damn\\n...      0   \n",
       "2  it is movies like these that make a jaded movi...      0   \n",
       "3  \" quest for camelot \" is warner bros . '\\nfirs...      0   \n",
       "4  synopsis : a mentally unstable man undergoing ...      0   \n",
       "\n",
       "                                           evidences  \n",
       "0  [mind - fuck movie, the sad part is, downshift...  \n",
       "1  [it 's pretty much a sunken ship, sutherland i...  \n",
       "2  [the characters and acting is nothing spectacu...  \n",
       "3  [dead on arrival, the characters stink, subpar...  \n",
       "4  [it is highly derivative and somewhat boring, ...  "
      ]
     },
     "execution_count": 7,
     "metadata": {},
     "output_type": "execute_result"
    }
   ],
   "source": [
    "df.head()"
   ]
  },
  {
   "cell_type": "code",
   "execution_count": 11,
   "metadata": {},
   "outputs": [
    {
     "data": {
      "text/html": [
       "<div>\n",
       "<style scoped>\n",
       "    .dataframe tbody tr th:only-of-type {\n",
       "        vertical-align: middle;\n",
       "    }\n",
       "\n",
       "    .dataframe tbody tr th {\n",
       "        vertical-align: top;\n",
       "    }\n",
       "\n",
       "    .dataframe thead th {\n",
       "        text-align: right;\n",
       "    }\n",
       "</style>\n",
       "<table border=\"1\" class=\"dataframe\">\n",
       "  <thead>\n",
       "    <tr style=\"text-align: right;\">\n",
       "      <th></th>\n",
       "      <th>label</th>\n",
       "    </tr>\n",
       "  </thead>\n",
       "  <tbody>\n",
       "    <tr>\n",
       "      <th>count</th>\n",
       "      <td>1600.000000</td>\n",
       "    </tr>\n",
       "    <tr>\n",
       "      <th>mean</th>\n",
       "      <td>0.500000</td>\n",
       "    </tr>\n",
       "    <tr>\n",
       "      <th>std</th>\n",
       "      <td>0.500156</td>\n",
       "    </tr>\n",
       "    <tr>\n",
       "      <th>min</th>\n",
       "      <td>0.000000</td>\n",
       "    </tr>\n",
       "    <tr>\n",
       "      <th>25%</th>\n",
       "      <td>0.000000</td>\n",
       "    </tr>\n",
       "    <tr>\n",
       "      <th>50%</th>\n",
       "      <td>0.500000</td>\n",
       "    </tr>\n",
       "    <tr>\n",
       "      <th>75%</th>\n",
       "      <td>1.000000</td>\n",
       "    </tr>\n",
       "    <tr>\n",
       "      <th>max</th>\n",
       "      <td>1.000000</td>\n",
       "    </tr>\n",
       "  </tbody>\n",
       "</table>\n",
       "</div>"
      ],
      "text/plain": [
       "             label\n",
       "count  1600.000000\n",
       "mean      0.500000\n",
       "std       0.500156\n",
       "min       0.000000\n",
       "25%       0.000000\n",
       "50%       0.500000\n",
       "75%       1.000000\n",
       "max       1.000000"
      ]
     },
     "execution_count": 11,
     "metadata": {},
     "output_type": "execute_result"
    }
   ],
   "source": [
    "df.describe()"
   ]
  },
  {
   "cell_type": "code",
   "execution_count": 12,
   "metadata": {},
   "outputs": [
    {
     "data": {
      "text/plain": [
       "label\n",
       "0    800\n",
       "1    800\n",
       "Name: count, dtype: int64"
      ]
     },
     "execution_count": 12,
     "metadata": {},
     "output_type": "execute_result"
    }
   ],
   "source": [
    "df['label'].value_counts()"
   ]
  },
  {
   "cell_type": "code",
   "execution_count": null,
   "metadata": {},
   "outputs": [],
   "source": []
  }
 ],
 "metadata": {
  "kernelspec": {
   "display_name": "venv",
   "language": "python",
   "name": "python3"
  },
  "language_info": {
   "codemirror_mode": {
    "name": "ipython",
    "version": 3
   },
   "file_extension": ".py",
   "mimetype": "text/x-python",
   "name": "python",
   "nbconvert_exporter": "python",
   "pygments_lexer": "ipython3",
   "version": "3.12.11"
  },
  "orig_nbformat": 4
 },
 "nbformat": 4,
 "nbformat_minor": 2
}
